{
 "metadata": {
  "name": "GalryNotebookTest"
 },
 "nbformat": 3,
 "nbformat_minor": 0,
 "worksheets": [
  {
   "cells": [
    {
     "cell_type": "code",
     "collapsed": false,
     "input": [
      "%load_ext ipynbgalry\n",
      "from IPython.display import display\n",
      "from galry.galryplot import GalryPlot\n",
      "from numpy.random import randn\n",
      "plot = GalryPlot(y=randn(100000)*.2)\n",
      "display(plot)"
     ],
     "language": "python",
     "metadata": {},
     "outputs": [],
     "prompt_number": 1
    },
    {
     "cell_type": "code",
     "collapsed": false,
     "input": [],
     "language": "python",
     "metadata": {},
     "outputs": []
    }
   ],
   "metadata": {}
  }
 ]
}